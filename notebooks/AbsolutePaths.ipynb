{
 "cells": [
  {
   "cell_type": "code",
   "execution_count": 11,
   "metadata": {},
   "outputs": [],
   "source": [
    "%config IPCompleter.greedy=True\n",
    "import os"
   ]
  },
  {
   "cell_type": "code",
   "execution_count": 4,
   "metadata": {},
   "outputs": [],
   "source": [
    "forrest_path = '/gsfs0/data/anzellos/data/forrest'\n",
    "forrest_bids_path = os.path.join(forrest_path,'forrest_bids')\n",
    "forrest_derivatives_path = os.path.join(forrest_path,'derivatives')\n",
    "\n",
    "project_path = '/gsfs0/data/wangbrh/BrainProject/'\n",
    "datasets_path = os.path.join(project_path, 'datasets')\n",
    "models_path = os.path.join(project_path, 'savedModels')"
   ]
  },
  {
   "cell_type": "code",
   "execution_count": 5,
   "metadata": {},
   "outputs": [],
   "source": [
    "def ffa_mask_path(sub): return os.path.join(forrest_derivatives_path, 'fmriprep/sub-{:02d}_complete/sub-{:02d}_ROIs/rFFA_final_mask_sub-{:02d}_bin.nii.gz'.format(sub, sub, sub))\n",
    "\n",
    "def func_path(sub, run): return os.path.join(forrest_bids_path,'sub-{:02d}/ses-movie/func/sub-{:02d}_ses-movie_task-movie_run-{}_bold.nii.gz').format(sub, sub, run)\n",
    "\n",
    "def features_path(sub, run): return os.path.join(\n",
    "    forrest_path, 'encoded_features/features-{}.pt'.format(run))\n",
    "\n",
    "def features_path(sub, run): return os.path.join(\n",
    "    forrest_path, 'encoded_features/sub-{:02d}/run-{:02d}.pt'.format(sub, run))"
   ]
  },
  {
   "cell_type": "code",
   "execution_count": 6,
   "metadata": {},
   "outputs": [
    {
     "name": "stdout",
     "output_type": "stream",
     "text": [
      "True\n",
      "True\n",
      "True\n",
      "True\n",
      "True\n",
      "True\n",
      "True\n",
      "True\n",
      "False\n"
     ]
    }
   ],
   "source": [
    "def testPaths():\n",
    "    print(os.path.isdir(forrest_path))\n",
    "    print(os.path.isdir(forrest_bids_path))\n",
    "    print(os.path.isdir(forrest_derivatives_path))\n",
    "    print(os.path.isdir(project_path))\n",
    "    print(os.path.isdir(datasets_path))\n",
    "    print(os.path.isdir(models_path))\n",
    "    \n",
    "    print(os.path.isfile(ffa_mask_path(1)))\n",
    "    print(os.path.isfile(func_path(1,1)))\n",
    "    print(os.path.isfile(features_path(1,1)))\n",
    "    \n",
    "testPaths()"
   ]
  }
 ],
 "metadata": {
  "kernelspec": {
   "display_name": "Python 3",
   "language": "python",
   "name": "python3"
  },
  "language_info": {
   "codemirror_mode": {
    "name": "ipython",
    "version": 3
   },
   "file_extension": ".py",
   "mimetype": "text/x-python",
   "name": "python",
   "nbconvert_exporter": "python",
   "pygments_lexer": "ipython3",
   "version": "3.6.8"
  }
 },
 "nbformat": 4,
 "nbformat_minor": 2
}
