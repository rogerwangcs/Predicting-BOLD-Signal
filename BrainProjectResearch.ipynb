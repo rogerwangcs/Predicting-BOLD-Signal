{
 "cells": [
  {
   "cell_type": "code",
   "execution_count": 153,
   "metadata": {},
   "outputs": [],
   "source": [
    "%reload_ext autoreload"
   ]
  },
  {
   "cell_type": "code",
   "execution_count": 64,
   "metadata": {},
   "outputs": [
    {
     "name": "stdout",
     "output_type": "stream",
     "text": [
      "The autoreload extension is already loaded. To reload it, use:\n",
      "  %reload_ext autoreload\n"
     ]
    }
   ],
   "source": [
    "%load_ext autoreload\n",
    "%autoreload 2\n",
    "\n",
    "import os\n",
    "import sys\n",
    "import numpy as np\n",
    "import matplotlib.pyplot as plt\n",
    "\n",
    "import torch\n",
    "import torchvision\n",
    "from torch.utils.data import DataLoader\n",
    "\n",
    "sys.path.append(\"/home/wangbrh/BrainProject/\")\n",
    "sys.path.append(\"/home/wangbrh/BrainProject/results\")\n",
    "sys.path.append(\"/home/wangbrh/BrainProject/utils\")\n",
    "sys.path.append(\"/home/wangbrh/BrainProject/utils/models\")\n",
    "sys.path.append(\"/home/wangbrh/BrainProject/datasets/forrest/movie_snapshots\")\n",
    "\n",
    "from utils import Datasets, plotUtils, loadUtils, featureUtils, evalUtils, models, extractRunFrames, Paths\n",
    "from plotUtils import peekImageFolderDS, sampleAE, plotCompareFeatures, showAnat\n",
    "from loadUtils import loadModel, loadFMRI, loadFeatures, loadPixelFeatures\n",
    "from fitUtils import fitAE, fitFeatureModel, featureNetCrossVal, train_all_autoencoders, encode_all_forrest_mult_autoencoders\n",
    "from evalUtils import correlateDataset\n",
    "\n",
    "from featureUtils import generateAllFeatures, convolveFeatures\n",
    "from Datasets import SingleDirDataset, FeatureDataset\n",
    "from models import SimpleConvAE, SimpleConvAESmall, FeatureNet"
   ]
  },
  {
   "cell_type": "markdown",
   "metadata": {},
   "source": [
    "# Batch Mode"
   ]
  },
  {
   "cell_type": "code",
   "execution_count": 66,
   "metadata": {},
   "outputs": [],
   "source": [
    "save_name = 'march10'"
   ]
  },
  {
   "cell_type": "markdown",
   "metadata": {},
   "source": [
    "# Train Autoencoder"
   ]
  },
  {
   "cell_type": "code",
   "execution_count": 67,
   "metadata": {},
   "outputs": [
    {
     "name": "stdout",
     "output_type": "stream",
     "text": [
      "Training SimpleConvAE model...\n"
     ]
    },
    {
     "data": {
      "application/vnd.jupyter.widget-view+json": {
       "model_id": "e731399448c84f58a6cb49932864dac9",
       "version_major": 2,
       "version_minor": 0
      },
      "text/plain": [
       "HBox(children=(FloatProgress(value=0.0), HTML(value='')))"
      ]
     },
     "metadata": {},
     "output_type": "display_data"
    },
    {
     "ename": "KeyboardInterrupt",
     "evalue": "",
     "output_type": "error",
     "traceback": [
      "\u001b[0;31m---------------------------------------------------------------------------\u001b[0m",
      "\u001b[0;31mKeyboardInterrupt\u001b[0m                         Traceback (most recent call last)",
      "\u001b[0;32m<ipython-input-67-2e5f785221f7>\u001b[0m in \u001b[0;36m<module>\u001b[0;34m\u001b[0m\n\u001b[1;32m     14\u001b[0m }\n\u001b[1;32m     15\u001b[0m \u001b[0;34m\u001b[0m\u001b[0m\n\u001b[0;32m---> 16\u001b[0;31m \u001b[0mtrain_all_autoencoders\u001b[0m\u001b[0;34m(\u001b[0m\u001b[0mhundred_objs_dl\u001b[0m\u001b[0;34m,\u001b[0m \u001b[0mautoencoders\u001b[0m\u001b[0;34m,\u001b[0m \u001b[0mepochs\u001b[0m\u001b[0;34m=\u001b[0m\u001b[0;36m100\u001b[0m\u001b[0;34m,\u001b[0m \u001b[0msave_name\u001b[0m\u001b[0;34m=\u001b[0m\u001b[0msave_name\u001b[0m\u001b[0;34m)\u001b[0m\u001b[0;34m\u001b[0m\u001b[0;34m\u001b[0m\u001b[0m\n\u001b[0m",
      "\u001b[0;32m~/BrainProject/utils/fitUtils.py\u001b[0m in \u001b[0;36mtrain_all_autoencoders\u001b[0;34m(dataloader, autoencoders, epochs, save_name)\u001b[0m\n\u001b[1;32m    128\u001b[0m         \u001b[0mcriterion\u001b[0m \u001b[0;34m=\u001b[0m \u001b[0mnn\u001b[0m\u001b[0;34m.\u001b[0m\u001b[0mMSELoss\u001b[0m\u001b[0;34m(\u001b[0m\u001b[0;34m)\u001b[0m\u001b[0;34m\u001b[0m\u001b[0;34m\u001b[0m\u001b[0m\n\u001b[1;32m    129\u001b[0m         \u001b[0moptimizer\u001b[0m \u001b[0;34m=\u001b[0m \u001b[0moptim\u001b[0m\u001b[0;34m.\u001b[0m\u001b[0mSGD\u001b[0m\u001b[0;34m(\u001b[0m\u001b[0mmodel\u001b[0m\u001b[0;34m.\u001b[0m\u001b[0mparameters\u001b[0m\u001b[0;34m(\u001b[0m\u001b[0;34m)\u001b[0m\u001b[0;34m,\u001b[0m \u001b[0mlr\u001b[0m\u001b[0;34m=\u001b[0m\u001b[0;36m0.001\u001b[0m\u001b[0;34m,\u001b[0m \u001b[0mmomentum\u001b[0m\u001b[0;34m=\u001b[0m\u001b[0;36m0.9\u001b[0m\u001b[0;34m,\u001b[0m \u001b[0mweight_decay\u001b[0m\u001b[0;34m=\u001b[0m\u001b[0;36m0.0001\u001b[0m\u001b[0;34m)\u001b[0m\u001b[0;34m\u001b[0m\u001b[0;34m\u001b[0m\u001b[0m\n\u001b[0;32m--> 130\u001b[0;31m         \u001b[0mfitAE\u001b[0m\u001b[0;34m(\u001b[0m\u001b[0mmodel\u001b[0m\u001b[0;34m,\u001b[0m \u001b[0mcriterion\u001b[0m\u001b[0;34m,\u001b[0m \u001b[0moptimizer\u001b[0m\u001b[0;34m,\u001b[0m \u001b[0mdataloader\u001b[0m\u001b[0;34m,\u001b[0m \u001b[0mepochs\u001b[0m\u001b[0;34m=\u001b[0m\u001b[0mepochs\u001b[0m\u001b[0;34m)\u001b[0m\u001b[0;34m\u001b[0m\u001b[0;34m\u001b[0m\u001b[0m\n\u001b[0m\u001b[1;32m    131\u001b[0m \u001b[0;34m\u001b[0m\u001b[0m\n\u001b[1;32m    132\u001b[0m         \u001b[0;31m# show size of encoded featuers\u001b[0m\u001b[0;34m\u001b[0m\u001b[0;34m\u001b[0m\u001b[0;34m\u001b[0m\u001b[0m\n",
      "\u001b[0;32m~/BrainProject/utils/fitUtils.py\u001b[0m in \u001b[0;36mfitAE\u001b[0;34m(model, criterion, optimizer, dataloader, epochs)\u001b[0m\n\u001b[1;32m     38\u001b[0m \u001b[0;34m\u001b[0m\u001b[0m\n\u001b[1;32m     39\u001b[0m             \u001b[0;31m# backward\u001b[0m\u001b[0;34m\u001b[0m\u001b[0;34m\u001b[0m\u001b[0;34m\u001b[0m\u001b[0m\n\u001b[0;32m---> 40\u001b[0;31m             \u001b[0mloss\u001b[0m\u001b[0;34m.\u001b[0m\u001b[0mbackward\u001b[0m\u001b[0;34m(\u001b[0m\u001b[0;34m)\u001b[0m\u001b[0;34m\u001b[0m\u001b[0;34m\u001b[0m\u001b[0m\n\u001b[0m\u001b[1;32m     41\u001b[0m             \u001b[0moptimizer\u001b[0m\u001b[0;34m.\u001b[0m\u001b[0mstep\u001b[0m\u001b[0;34m(\u001b[0m\u001b[0;34m)\u001b[0m\u001b[0;34m\u001b[0m\u001b[0;34m\u001b[0m\u001b[0m\n\u001b[1;32m     42\u001b[0m \u001b[0;34m\u001b[0m\u001b[0m\n",
      "\u001b[0;32m/usr/lib/python3/dist-packages/torch/tensor.py\u001b[0m in \u001b[0;36mbackward\u001b[0;34m(self, gradient, retain_graph, create_graph)\u001b[0m\n\u001b[1;32m    116\u001b[0m                 \u001b[0mproducts\u001b[0m\u001b[0;34m.\u001b[0m \u001b[0mDefaults\u001b[0m \u001b[0mto\u001b[0m\u001b[0;31m \u001b[0m\u001b[0;31m`\u001b[0m\u001b[0;31m`\u001b[0m\u001b[0;32mFalse\u001b[0m\u001b[0;31m`\u001b[0m\u001b[0;31m`\u001b[0m\u001b[0;34m.\u001b[0m\u001b[0;34m\u001b[0m\u001b[0;34m\u001b[0m\u001b[0m\n\u001b[1;32m    117\u001b[0m         \"\"\"\n\u001b[0;32m--> 118\u001b[0;31m         \u001b[0mtorch\u001b[0m\u001b[0;34m.\u001b[0m\u001b[0mautograd\u001b[0m\u001b[0;34m.\u001b[0m\u001b[0mbackward\u001b[0m\u001b[0;34m(\u001b[0m\u001b[0mself\u001b[0m\u001b[0;34m,\u001b[0m \u001b[0mgradient\u001b[0m\u001b[0;34m,\u001b[0m \u001b[0mretain_graph\u001b[0m\u001b[0;34m,\u001b[0m \u001b[0mcreate_graph\u001b[0m\u001b[0;34m)\u001b[0m\u001b[0;34m\u001b[0m\u001b[0;34m\u001b[0m\u001b[0m\n\u001b[0m\u001b[1;32m    119\u001b[0m \u001b[0;34m\u001b[0m\u001b[0m\n\u001b[1;32m    120\u001b[0m     \u001b[0;32mdef\u001b[0m \u001b[0mregister_hook\u001b[0m\u001b[0;34m(\u001b[0m\u001b[0mself\u001b[0m\u001b[0;34m,\u001b[0m \u001b[0mhook\u001b[0m\u001b[0;34m)\u001b[0m\u001b[0;34m:\u001b[0m\u001b[0;34m\u001b[0m\u001b[0;34m\u001b[0m\u001b[0m\n",
      "\u001b[0;32m/usr/lib/python3/dist-packages/torch/autograd/__init__.py\u001b[0m in \u001b[0;36mbackward\u001b[0;34m(tensors, grad_tensors, retain_graph, create_graph, grad_variables)\u001b[0m\n\u001b[1;32m     91\u001b[0m     Variable._execution_engine.run_backward(\n\u001b[1;32m     92\u001b[0m         \u001b[0mtensors\u001b[0m\u001b[0;34m,\u001b[0m \u001b[0mgrad_tensors\u001b[0m\u001b[0;34m,\u001b[0m \u001b[0mretain_graph\u001b[0m\u001b[0;34m,\u001b[0m \u001b[0mcreate_graph\u001b[0m\u001b[0;34m,\u001b[0m\u001b[0;34m\u001b[0m\u001b[0;34m\u001b[0m\u001b[0m\n\u001b[0;32m---> 93\u001b[0;31m         allow_unreachable=True)  # allow_unreachable flag\n\u001b[0m\u001b[1;32m     94\u001b[0m \u001b[0;34m\u001b[0m\u001b[0m\n\u001b[1;32m     95\u001b[0m \u001b[0;34m\u001b[0m\u001b[0m\n",
      "\u001b[0;31mKeyboardInterrupt\u001b[0m: "
     ]
    }
   ],
   "source": [
    "image_transforms = torchvision.transforms.Compose([\n",
    "    torchvision.transforms.Resize((64, 64)),\n",
    "    torchvision.transforms.ToTensor(),\n",
    "])\n",
    "hundred_objs_ds = torchvision.datasets.ImageFolder(\n",
    "    root=Paths.objects_dataset_path,\n",
    "    transform=image_transforms\n",
    ")\n",
    "hundred_objs_dl = DataLoader(traindataset, batch_size=16, shuffle=True, num_workers=8, pin_memory=True)\n",
    "\n",
    "autoencoders = {\n",
    "    'SimpleConvAE':  SimpleConvAE().cuda(),\n",
    "    'SimpleConvAESmall': SimpleConvAESmall().cuda()\n",
    "}\n",
    "\n",
    "train_all_autoencoders(hundred_objs_dl, autoencoders, epochs=100, save_name=save_name)"
   ]
  },
  {
   "cell_type": "markdown",
   "metadata": {},
   "source": [
    "## Extract Movie Frames"
   ]
  },
  {
   "cell_type": "code",
   "execution_count": null,
   "metadata": {},
   "outputs": [],
   "source": [
    "# Run only once to extract forrest movie frames\n",
    "# for i in range(8):\n",
    "#     extractRunFrames(Paths.movie_run_path(i), Paths.movie_run_snapshots_path(i), 'run-{}'.format(i))"
   ]
  },
  {
   "cell_type": "markdown",
   "metadata": {},
   "source": [
    "# Encode Forrest To Features"
   ]
  },
  {
   "cell_type": "code",
   "execution_count": 46,
   "metadata": {
    "collapsed": true,
    "jupyter": {
     "outputs_hidden": true
    }
   },
   "outputs": [
    {
     "name": "stdout",
     "output_type": "stream",
     "text": [
      "Encoding forrest features for SimpleConvAE model...\n",
      "Encoding run 0 frames...\n",
      "Feature Shape: torch.Size([454, 16384])\n"
     ]
    },
    {
     "data": {
      "application/vnd.jupyter.widget-view+json": {
       "model_id": "a0e448a93e4048acbcf26c46b68ffd08",
       "version_major": 2,
       "version_minor": 0
      },
      "text/plain": [
       "HBox(children=(FloatProgress(value=0.0, max=454.0), HTML(value='')))"
      ]
     },
     "metadata": {},
     "output_type": "display_data"
    },
    {
     "name": "stdout",
     "output_type": "stream",
     "text": [
      "\n",
      "Encoding run 1 frames...\n",
      "Feature Shape: torch.Size([444, 16384])\n"
     ]
    },
    {
     "data": {
      "application/vnd.jupyter.widget-view+json": {
       "model_id": "86903b738106436bb24ecc136052c440",
       "version_major": 2,
       "version_minor": 0
      },
      "text/plain": [
       "HBox(children=(FloatProgress(value=0.0, max=444.0), HTML(value='')))"
      ]
     },
     "metadata": {},
     "output_type": "display_data"
    },
    {
     "name": "stdout",
     "output_type": "stream",
     "text": [
      "\n",
      "Encoding run 2 frames...\n",
      "Feature Shape: torch.Size([441, 16384])\n"
     ]
    },
    {
     "data": {
      "application/vnd.jupyter.widget-view+json": {
       "model_id": "ef63425e38154ba7a0372e1c77125f67",
       "version_major": 2,
       "version_minor": 0
      },
      "text/plain": [
       "HBox(children=(FloatProgress(value=0.0, max=441.0), HTML(value='')))"
      ]
     },
     "metadata": {},
     "output_type": "display_data"
    },
    {
     "name": "stdout",
     "output_type": "stream",
     "text": [
      "\n",
      "Encoding run 3 frames...\n",
      "Feature Shape: torch.Size([491, 16384])\n"
     ]
    },
    {
     "data": {
      "application/vnd.jupyter.widget-view+json": {
       "model_id": "cd126587a95947e1af7d5f11a87d1e78",
       "version_major": 2,
       "version_minor": 0
      },
      "text/plain": [
       "HBox(children=(FloatProgress(value=0.0, max=491.0), HTML(value='')))"
      ]
     },
     "metadata": {},
     "output_type": "display_data"
    },
    {
     "name": "stdout",
     "output_type": "stream",
     "text": [
      "\n",
      "Encoding run 4 frames...\n",
      "Feature Shape: torch.Size([465, 16384])\n"
     ]
    },
    {
     "data": {
      "application/vnd.jupyter.widget-view+json": {
       "model_id": "d085d4a6d9c24c2fae84c71de20e67f2",
       "version_major": 2,
       "version_minor": 0
      },
      "text/plain": [
       "HBox(children=(FloatProgress(value=0.0, max=465.0), HTML(value='')))"
      ]
     },
     "metadata": {},
     "output_type": "display_data"
    },
    {
     "name": "stdout",
     "output_type": "stream",
     "text": [
      "\n",
      "Encoding run 5 frames...\n",
      "Feature Shape: torch.Size([442, 16384])\n"
     ]
    },
    {
     "data": {
      "application/vnd.jupyter.widget-view+json": {
       "model_id": "5feba41152fb4eecb7fbefab03978738",
       "version_major": 2,
       "version_minor": 0
      },
      "text/plain": [
       "HBox(children=(FloatProgress(value=0.0, max=442.0), HTML(value='')))"
      ]
     },
     "metadata": {},
     "output_type": "display_data"
    },
    {
     "name": "stdout",
     "output_type": "stream",
     "text": [
      "\n",
      "Encoding run 6 frames...\n",
      "Feature Shape: torch.Size([545, 16384])\n"
     ]
    },
    {
     "data": {
      "application/vnd.jupyter.widget-view+json": {
       "model_id": "bb6f6df5bc8c4aa099f80105bbcfa7bf",
       "version_major": 2,
       "version_minor": 0
      },
      "text/plain": [
       "HBox(children=(FloatProgress(value=0.0, max=545.0), HTML(value='')))"
      ]
     },
     "metadata": {},
     "output_type": "display_data"
    },
    {
     "name": "stdout",
     "output_type": "stream",
     "text": [
      "\n",
      "Encoding run 7 frames...\n",
      "Feature Shape: torch.Size([340, 16384])\n"
     ]
    },
    {
     "data": {
      "application/vnd.jupyter.widget-view+json": {
       "model_id": "609e4b654ecd4c8c825707f16fbf4aeb",
       "version_major": 2,
       "version_minor": 0
      },
      "text/plain": [
       "HBox(children=(FloatProgress(value=0.0, max=340.0), HTML(value='')))"
      ]
     },
     "metadata": {},
     "output_type": "display_data"
    },
    {
     "name": "stdout",
     "output_type": "stream",
     "text": [
      "\n",
      "Feature encoding complete.\n",
      "Encoding forrest features for SimpleConvAESmall model...\n",
      "Encoding run 0 frames...\n",
      "Feature Shape: torch.Size([454, 6144])\n"
     ]
    },
    {
     "data": {
      "application/vnd.jupyter.widget-view+json": {
       "model_id": "8d055e66575d4cd18780a91de1f9f5a3",
       "version_major": 2,
       "version_minor": 0
      },
      "text/plain": [
       "HBox(children=(FloatProgress(value=0.0, max=454.0), HTML(value='')))"
      ]
     },
     "metadata": {},
     "output_type": "display_data"
    },
    {
     "name": "stdout",
     "output_type": "stream",
     "text": [
      "\n",
      "Encoding run 1 frames...\n",
      "Feature Shape: torch.Size([444, 6144])\n"
     ]
    },
    {
     "data": {
      "application/vnd.jupyter.widget-view+json": {
       "model_id": "1233cd7a3bcf45058df98310d53d4abe",
       "version_major": 2,
       "version_minor": 0
      },
      "text/plain": [
       "HBox(children=(FloatProgress(value=0.0, max=444.0), HTML(value='')))"
      ]
     },
     "metadata": {},
     "output_type": "display_data"
    },
    {
     "name": "stdout",
     "output_type": "stream",
     "text": [
      "\n",
      "Encoding run 2 frames...\n",
      "Feature Shape: torch.Size([441, 6144])\n"
     ]
    },
    {
     "data": {
      "application/vnd.jupyter.widget-view+json": {
       "model_id": "e19e6815bb334b499802a7f2aa6a8adc",
       "version_major": 2,
       "version_minor": 0
      },
      "text/plain": [
       "HBox(children=(FloatProgress(value=0.0, max=441.0), HTML(value='')))"
      ]
     },
     "metadata": {},
     "output_type": "display_data"
    },
    {
     "name": "stdout",
     "output_type": "stream",
     "text": [
      "\n",
      "Encoding run 3 frames...\n",
      "Feature Shape: torch.Size([491, 6144])\n"
     ]
    },
    {
     "data": {
      "application/vnd.jupyter.widget-view+json": {
       "model_id": "466882852dd24a09b172b5f24e06db97",
       "version_major": 2,
       "version_minor": 0
      },
      "text/plain": [
       "HBox(children=(FloatProgress(value=0.0, max=491.0), HTML(value='')))"
      ]
     },
     "metadata": {},
     "output_type": "display_data"
    },
    {
     "name": "stdout",
     "output_type": "stream",
     "text": [
      "\n",
      "Encoding run 4 frames...\n",
      "Feature Shape: torch.Size([465, 6144])\n"
     ]
    },
    {
     "data": {
      "application/vnd.jupyter.widget-view+json": {
       "model_id": "cb95f22d1cfa41e481e9dcc5e0e66964",
       "version_major": 2,
       "version_minor": 0
      },
      "text/plain": [
       "HBox(children=(FloatProgress(value=0.0, max=465.0), HTML(value='')))"
      ]
     },
     "metadata": {},
     "output_type": "display_data"
    },
    {
     "name": "stdout",
     "output_type": "stream",
     "text": [
      "\n",
      "Encoding run 5 frames...\n",
      "Feature Shape: torch.Size([442, 6144])\n"
     ]
    },
    {
     "data": {
      "application/vnd.jupyter.widget-view+json": {
       "model_id": "56284e2a2dfe48418bf62946f07da4a9",
       "version_major": 2,
       "version_minor": 0
      },
      "text/plain": [
       "HBox(children=(FloatProgress(value=0.0, max=442.0), HTML(value='')))"
      ]
     },
     "metadata": {},
     "output_type": "display_data"
    },
    {
     "name": "stdout",
     "output_type": "stream",
     "text": [
      "\n",
      "Encoding run 6 frames...\n",
      "Feature Shape: torch.Size([545, 6144])\n"
     ]
    },
    {
     "data": {
      "application/vnd.jupyter.widget-view+json": {
       "model_id": "7e04530171d545789b032cf7c26bd0c7",
       "version_major": 2,
       "version_minor": 0
      },
      "text/plain": [
       "HBox(children=(FloatProgress(value=0.0, max=545.0), HTML(value='')))"
      ]
     },
     "metadata": {},
     "output_type": "display_data"
    },
    {
     "name": "stdout",
     "output_type": "stream",
     "text": [
      "\n",
      "Encoding run 7 frames...\n",
      "Feature Shape: torch.Size([340, 6144])\n"
     ]
    },
    {
     "data": {
      "application/vnd.jupyter.widget-view+json": {
       "model_id": "42002fdc92ac441fb33b9fd0e1eef455",
       "version_major": 2,
       "version_minor": 0
      },
      "text/plain": [
       "HBox(children=(FloatProgress(value=0.0, max=340.0), HTML(value='')))"
      ]
     },
     "metadata": {},
     "output_type": "display_data"
    },
    {
     "name": "stdout",
     "output_type": "stream",
     "text": [
      "\n",
      "Feature encoding complete.\n"
     ]
    }
   ],
   "source": [
    "autoencoders = {\n",
    "    'SimpleConvAE':  SimpleConvAE().cuda(),\n",
    "    'SimpleConvAESmall': SimpleConvAESmall().cuda()\n",
    "}\n",
    "        \n",
    "encode_all_forrest_mult_autoencoders(autoencoders, sa)"
   ]
  },
  {
   "cell_type": "markdown",
   "metadata": {},
   "source": [
    "# Train BOLD Model"
   ]
  },
  {
   "cell_type": "code",
   "execution_count": null,
   "metadata": {},
   "outputs": [],
   "source": [
    "# from torch.utils.data import DataLoader\n",
    "\n",
    "# [anat_data, mask_data] = loadFMRI(1, 0)\n",
    "# features = loadFeatures(1, 0, responseLen=anat_data.shape[3])\n",
    "# features_conv = convolveFeatures(features, 2)\n",
    "# # plotCompareFeatures(features[:,:10], features_conv[:,:10])\n",
    "# featureData = FeatureDataset(torch.tensor(features_conv).float(), torch.tensor(anat_data), torch.tensor(mask_data).bool())\n",
    "# featureLoader = DataLoader(featureData, batch_size=64, shuffle=True, num_workers=1,pin_memory=True)"
   ]
  },
  {
   "cell_type": "code",
   "execution_count": 98,
   "metadata": {},
   "outputs": [
    {
     "data": {
      "text/plain": [
       "(451, 16384)"
      ]
     },
     "execution_count": 98,
     "metadata": {},
     "output_type": "execute_result"
    }
   ],
   "source": [
    "features.shape"
   ]
  },
  {
   "cell_type": "code",
   "execution_count": 55,
   "metadata": {
    "scrolled": true
   },
   "outputs": [],
   "source": [
    "# Load encoded features datasets\n",
    "\n",
    "import random\n",
    "\n",
    "def loadEncodedRunDatasets(modelName, sub, save_name='', debug=False):\n",
    "    all_run_datasets = []\n",
    "    for i in range(8):\n",
    "        [anat_data, mask_data] = loadFMRI(sub, i, debug=debug)\n",
    "        features = loadFeatures(modelName, i, responseLen=anat_data.shape[3], save_name=save_name, debug=debug)\n",
    "        features_conv = convolveFeatures(features, 2)\n",
    "        featureData = FeatureDataset(torch.tensor(features_conv).float(), torch.tensor(anat_data), torch.tensor(mask_data).bool())\n",
    "        all_run_datasets.append(featureData)\n",
    "    return all_run_datasets\n",
    "\n",
    "def loadPixelRunDataset(sub, debug=False):\n",
    "    all_run_datasets = []\n",
    "    for i in range(8):\n",
    "        [anat_data, mask_data] = loadFMRI(sub, i, debug=debug)\n",
    "        features = loadPixelFeatures(Paths.movie_run_snapshots_path(i), i, responseLen=anat_data.shape[3], debug=debug)\n",
    "        features_conv = convolveFeatures(features, 2)\n",
    "        featureData = FeatureDataset(torch.tensor(features_conv).float(), torch.tensor(anat_data), torch.tensor(mask_data).bool())\n",
    "        all_run_datasets.append(featureData)\n",
    "    return all_run_datasets"
   ]
  },
  {
   "cell_type": "code",
   "execution_count": 58,
   "metadata": {},
   "outputs": [],
   "source": [
    "def experiment_all_subjects(epochs=50, save_name=''):\n",
    "    \n",
    "    subjects = [i for i in range (1, 5 + 1)] # 20 total subjects\n",
    "    encoded_feature_types = ['Pixels', 'SimpleConvAE', 'SimpleConvAESmall']\n",
    "    \n",
    "    for sub in subjects:\n",
    "        for encoded_feature_type in encoded_feature_types:\n",
    "           \n",
    "            print(\"Training {} on subject {}... \".format(encoded_feature_type, sub), end='')\n",
    "                \n",
    "            all_run_datasets = None\n",
    "            if encoded_feature_type == 'Pixels':\n",
    "                all_run_datasets = loadPixelRunDataset(sub)\n",
    "            else:\n",
    "                all_run_datasets = loadEncodedRunDatasets(encoded_feature_type, sub, save_name=save_name)\n",
    "            \n",
    "            save_path = os.path.join(Paths.results_path, 'sub-{:02d}'.format(sub), '{}-{}.npy'.format(encoded_feature_type, save_name))\n",
    "            featureNetCrossVal(all_run_datasets, save_path, epochs=epochs)\n",
    "            \n",
    "            print(\"done.\")"
   ]
  },
  {
   "cell_type": "code",
   "execution_count": 61,
   "metadata": {},
   "outputs": [
    {
     "name": "stdout",
     "output_type": "stream",
     "text": [
      "Training Pixels on subject 1... done.\n",
      "Training SimpleConvAE on subject 1... done.\n",
      "Training SimpleConvAESmall on subject 1... done.\n",
      "Training Pixels on subject 2... done.\n",
      "Training SimpleConvAE on subject 2... done.\n",
      "Training SimpleConvAESmall on subject 2... done.\n",
      "Training Pixels on subject 3... done.\n",
      "Training SimpleConvAE on subject 3... done.\n",
      "Training SimpleConvAESmall on subject 3... done.\n",
      "Training Pixels on subject 4... done.\n",
      "Training SimpleConvAE on subject 4... done.\n",
      "Training SimpleConvAESmall on subject 4... done.\n",
      "Training Pixels on subject 5... done.\n",
      "Training SimpleConvAE on subject 5... done.\n",
      "Training SimpleConvAESmall on subject 5... done.\n"
     ]
    }
   ],
   "source": [
    "experiment_all_subjects(1, save_name)"
   ]
  },
  {
   "cell_type": "markdown",
   "metadata": {},
   "source": [
    "# Results"
   ]
  },
  {
   "cell_type": "code",
   "execution_count": 20,
   "metadata": {},
   "outputs": [
    {
     "data": {
      "image/png": "[encoded data removed]",
      "text/plain": [
       "<matplotlib.figure.Figure at 0x7f54c20e12e8>"
      ]
     },
     "metadata": {},
     "output_type": "display_data"
    }
   ],
   "source": [
    "subjects = [i for i in range (1, 5 + 1)] # 20 total subjects\n",
    "encoded_feature_types = ['Pixels', 'SimpleConvAE', 'SimpleConvAESmall']\n",
    "\n",
    "cols = 3\n",
    "rows = 2\n",
    "fig = plt.figure(figsize=(cols*6, rows*5), facecolor='white')\n",
    "for idx, sub in enumerate(subjects):\n",
    "    fig.add_subplot(rows, cols, idx+1)\n",
    "    for encoded_feature_type in encoded_feature_types:\n",
    "        cv_results_path = Paths.results_path + \"/sub-{:02d}/{}.npy\".format(sub, encoded_feature_type)\n",
    "        cv_results = np.load(cv_results_path)\n",
    "        plt.plot(cv_results[:,1])\n",
    "    plt.title(\"Subject {:02d}\".format(sub))\n",
    "    plt.legend(['pixel', 'AE', 'AESmall'])\n",
    "    plt.xlabel(\"Run #\")\n",
    "    plt.ylabel(\"Correlation\")\n",
    "plt.show()"
   ]
  },
  {
   "cell_type": "code",
   "execution_count": null,
   "metadata": {},
   "outputs": [],
   "source": [
    "# fit single model\n",
    "\n",
    "train_loader = DataLoader(all_run_datasets[0], batch_size=64, pin_memory=True)\n",
    "\n",
    "# create model, optimizer, error function\n",
    "num_features = all_run_datasets[0].__getitem__(0)[0].shape[0]\n",
    "num_ffa_voxels = all_run_datasets[0].__getitem__(0)[1].shape[0]\n",
    "model = FeatureNet(num_features, num_ffa_voxels).cuda()\n",
    "model.train()\n",
    "criterion = torch.nn.MSELoss() \n",
    "optimizer = torch.optim.SGD(model.parameters(), lr=0.001, momentum=0.9, weight_decay=0.001)\n",
    "\n",
    "\n",
    "# fit and save model\n",
    "fitFeatureModel(model, criterion, optimizer, train_loader, epochs=50)"
   ]
  }
 ],
 "metadata": {
  "kernelspec": {
   "display_name": "Python 3",
   "language": "python",
   "name": "python3"
  },
  "language_info": {
   "codemirror_mode": {
    "name": "ipython",
    "version": 3
   },
   "file_extension": ".py",
   "mimetype": "text/x-python",
   "name": "python",
   "nbconvert_exporter": "python",
   "pygments_lexer": "ipython3",
   "version": "3.6.8"
  }
 },
 "nbformat": 4,
 "nbformat_minor": 4
}
